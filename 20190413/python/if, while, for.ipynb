{
 "cells": [
  {
   "cell_type": "code",
   "execution_count": 20,
   "metadata": {},
   "outputs": [
    {
     "name": "stdout",
     "output_type": "stream",
     "text": [
      "False\n",
      "True\n",
      "False\n",
      "True\n"
     ]
    }
   ],
   "source": [
    "x=5\n",
    "y=10\n",
    "\n",
    "print x == y\n",
    "print x != y\n",
    "print x > 5\n",
    "print x >= 5"
   ]
  },
  {
   "cell_type": "code",
   "execution_count": 24,
   "metadata": {},
   "outputs": [
    {
     "name": "stdout",
     "output_type": "stream",
     "text": [
      "False\n",
      "True\n",
      "False\n",
      "True\n"
     ]
    }
   ],
   "source": [
    "x=5\n",
    "y=10\n",
    "\n",
    "print (x>7) and (y>7)\n",
    "print (x>7) or (y>7)\n",
    "\n",
    "print (x>10)\n",
    "print not (x>10)"
   ]
  },
  {
   "cell_type": "code",
   "execution_count": 25,
   "metadata": {},
   "outputs": [
    {
     "name": "stdout",
     "output_type": "stream",
     "text": [
      "A\n",
      "C\n"
     ]
    }
   ],
   "source": [
    "'''\n",
    "Indention is very important!\n",
    "Use TAB\n",
    "\n",
    "C Style\n",
    "if(condition){\n",
    "\n",
    "}else{\n",
    "\n",
    "}\n",
    "\n",
    "'''\n",
    "#if\n",
    "\n",
    "a=10\n",
    "\n",
    "if a>5:\n",
    "    print \"A\"\n",
    "else:\n",
    "    print \"B\"\n",
    "    \n",
    "print \"C\"\n",
    "# print(\"D\")    "
   ]
  },
  {
   "cell_type": "code",
   "execution_count": 28,
   "metadata": {},
   "outputs": [
    {
     "name": "stdout",
     "output_type": "stream",
     "text": [
      "B\n"
     ]
    }
   ],
   "source": [
    "x = -3\n",
    "\n",
    "if x>10:\n",
    "    print 'A'\n",
    "    \n",
    "elif x<0:\n",
    "    print 'B'\n",
    "    \n",
    "else:\n",
    "    print 'C'\n"
   ]
  },
  {
   "cell_type": "code",
   "execution_count": 33,
   "metadata": {},
   "outputs": [
    {
     "name": "stdout",
     "output_type": "stream",
     "text": [
      "Count : 0\n",
      "Count : 1\n",
      "Count : 2\n",
      "Count : 3\n",
      "Count : 4\n",
      "Count : 5\n",
      "Count : 6\n",
      "Count : 7\n",
      "Count : 8\n",
      "Count : 9\n",
      "Finish\n",
      "Count : 10\n"
     ]
    }
   ],
   "source": [
    "#while\n",
    "\n",
    "count = 0\n",
    "\n",
    "while count < 10:\n",
    "    print \"Count : \" + str(count)\n",
    "    count = count + 1\n",
    "\n",
    "print \"Finish\"\n",
    "print \"Count : \" + str(count)"
   ]
  },
  {
   "cell_type": "code",
   "execution_count": 34,
   "metadata": {},
   "outputs": [
    {
     "name": "stdout",
     "output_type": "stream",
     "text": [
      "Count : 0\n",
      "Count : 1\n",
      "Count : 2\n",
      "Count : 3\n",
      "Count : 4\n",
      "Count : 5\n",
      "Finish\n",
      "Count : 5\n"
     ]
    }
   ],
   "source": [
    "#break\n",
    "count = 0\n",
    "\n",
    "while count < 10:\n",
    "    print \"Count : \" + str(count)\n",
    "    \n",
    "    if count == 5:\n",
    "        break\n",
    "    \n",
    "    count = count + 1\n",
    "\n",
    "print \"Finish\"\n",
    "print \"Count : \" + str(count)"
   ]
  },
  {
   "cell_type": "code",
   "execution_count": 37,
   "metadata": {},
   "outputs": [
    {
     "name": "stdout",
     "output_type": "stream",
     "text": [
      "Count : 0\n",
      "Hello\n",
      "Count : 1\n",
      "Hello\n",
      "Count : 2\n",
      "Hello\n",
      "Count : 3\n",
      "Hello\n",
      "Count : 4\n",
      "Count : 5\n",
      "Hello\n",
      "Count : 6\n",
      "Hello\n",
      "Count : 7\n",
      "Hello\n",
      "Count : 8\n",
      "Hello\n",
      "Count : 9\n",
      "Hello\n",
      "Finish\n",
      "Count : 10\n"
     ]
    }
   ],
   "source": [
    "#continue\n",
    "\n",
    "count = 0\n",
    "\n",
    "while count < 10:\n",
    "    print \"Count : \" + str(count)\n",
    "    \n",
    "    count = count + 1\n",
    "\n",
    "    if count == 5:\n",
    "        continue\n",
    "        \n",
    "    print \"Hello\"\n",
    "    \n",
    "print \"Finish\"\n",
    "print \"Count : \" + str(count)"
   ]
  },
  {
   "cell_type": "code",
   "execution_count": 40,
   "metadata": {},
   "outputs": [
    {
     "name": "stdout",
     "output_type": "stream",
     "text": [
      "one\n",
      "two\n",
      "three\n",
      "1\n",
      "2\n",
      "3\n"
     ]
    }
   ],
   "source": [
    "#for\n",
    "\n",
    "list_1 = ['one','two','three']\n",
    "for i in list_1:\n",
    "    print i\n",
    "\n",
    "list_2 = [1,2,3]\n",
    "for i in list_2:\n",
    "    print i"
   ]
  },
  {
   "cell_type": "code",
   "execution_count": 43,
   "metadata": {},
   "outputs": [
    {
     "name": "stdout",
     "output_type": "stream",
     "text": [
      "[0, 1, 2, 3, 4, 5, 6, 7, 8, 9]\n",
      "0\n",
      "1\n",
      "2\n",
      "3\n",
      "4\n",
      "5\n",
      "6\n",
      "7\n",
      "8\n",
      "9\n"
     ]
    }
   ],
   "source": [
    "print range(0,10) # 0 <=x < 10\n",
    "for i in range(0,10):\n",
    "    print i"
   ]
  },
  {
   "cell_type": "code",
   "execution_count": 44,
   "metadata": {},
   "outputs": [
    {
     "name": "stdout",
     "output_type": "stream",
     "text": [
      "1번 학생은 합격입니다.\n",
      "2번 학생은 불합격입니다.\n",
      "3번 학생은 합격입니다.\n",
      "4번 학생은 불합격입니다.\n",
      "5번 학생은 합격입니다.\n"
     ]
    }
   ],
   "source": [
    "marks = [90, 25, 67, 45, 80]\n",
    "\n",
    "number = 0 \n",
    "for mark in marks: \n",
    "    number = number +1 \n",
    "    if mark >= 60: \n",
    "        print(\"%d번 학생은 합격입니다.\" % number)\n",
    "    else: \n",
    "        print(\"%d번 학생은 불합격입니다.\" % number)"
   ]
  },
  {
   "cell_type": "code",
   "execution_count": 45,
   "metadata": {},
   "outputs": [
    {
     "name": "stdout",
     "output_type": "stream",
     "text": [
      "1번 학생 축하합니다. 합격입니다. \n",
      "3번 학생 축하합니다. 합격입니다. \n",
      "5번 학생 축하합니다. 합격입니다. \n"
     ]
    }
   ],
   "source": [
    "marks = [90, 25, 67, 45, 80]\n",
    "\n",
    "number = 0 \n",
    "for mark in marks: \n",
    "    number = number +1 \n",
    "    if mark < 60:\n",
    "        continue \n",
    "    print(\"%d번 학생 축하합니다. 합격입니다. \" % number)"
   ]
  },
  {
   "cell_type": "code",
   "execution_count": null,
   "metadata": {},
   "outputs": [],
   "source": []
  }
 ],
 "metadata": {
  "kernelspec": {
   "display_name": "Python 2",
   "language": "python",
   "name": "python2"
  },
  "language_info": {
   "codemirror_mode": {
    "name": "ipython",
    "version": 2
   },
   "file_extension": ".py",
   "mimetype": "text/x-python",
   "name": "python",
   "nbconvert_exporter": "python",
   "pygments_lexer": "ipython2",
   "version": "2.7.12"
  }
 },
 "nbformat": 4,
 "nbformat_minor": 2
}
