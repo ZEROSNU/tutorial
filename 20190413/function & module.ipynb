{
 "cells": [
  {
   "cell_type": "code",
   "execution_count": 3,
   "metadata": {},
   "outputs": [
    {
     "name": "stdout",
     "output_type": "stream",
     "text": [
      "Hello!\n",
      "15\n"
     ]
    }
   ],
   "source": [
    "def hello_message():\n",
    "    print \"Hello!\"\n",
    "\n",
    "def addition(a,b):\n",
    "    return a+b\n",
    "\n",
    "hello_message()\n",
    "print addition(5,10)"
   ]
  },
  {
   "cell_type": "code",
   "execution_count": 7,
   "metadata": {},
   "outputs": [
    {
     "name": "stdout",
     "output_type": "stream",
     "text": [
      "(9, 20)\n"
     ]
    }
   ],
   "source": [
    "def add_and_mul(a,b):\n",
    "    return a+b, a*b\n",
    "\n",
    "print add_and_mul(4,5)"
   ]
  },
  {
   "cell_type": "code",
   "execution_count": 16,
   "metadata": {},
   "outputs": [
    {
     "name": "stdout",
     "output_type": "stream",
     "text": [
      "module_function function called\n",
      "module_function function called\n",
      "module_function function called\n"
     ]
    }
   ],
   "source": [
    "'''\n",
    "test_module.py\n",
    "\n",
    "def module_function():\n",
    "    print \"module_function function called\"\n",
    "'''\n",
    "\n",
    "import test_module\n",
    "test_module.module_function()\n",
    "\n",
    "\n",
    "from test_module import module_function\n",
    "#from test_module import *\n",
    "module_function()\n",
    "\n",
    "\n",
    "import test_module as mod\n",
    "mod.module_function()"
   ]
  },
  {
   "cell_type": "code",
   "execution_count": 22,
   "metadata": {},
   "outputs": [
    {
     "name": "stdout",
     "output_type": "stream",
     "text": [
      "10\n",
      "5.0\n",
      "5\n"
     ]
    }
   ],
   "source": [
    "#abs\n",
    "print abs(-10)\n",
    "\n",
    "#float, int\n",
    "print float(5)\n",
    "print int(5.6)"
   ]
  },
  {
   "cell_type": "code",
   "execution_count": 28,
   "metadata": {},
   "outputs": [
    {
     "name": "stdout",
     "output_type": "stream",
     "text": [
      "9\n",
      "1\n",
      "25\n"
     ]
    }
   ],
   "source": [
    "#max, min\n",
    "a = [1,3,5,7,9]\n",
    "\n",
    "print max(a)\n",
    "print min(a)\n",
    "print sum(a)"
   ]
  },
  {
   "cell_type": "code",
   "execution_count": 29,
   "metadata": {},
   "outputs": [
    {
     "data": {
      "text/plain": [
       "1555054855.264146"
      ]
     },
     "execution_count": 29,
     "metadata": {},
     "output_type": "execute_result"
    }
   ],
   "source": [
    "import time\n",
    "time.time()"
   ]
  },
  {
   "cell_type": "code",
   "execution_count": 32,
   "metadata": {},
   "outputs": [
    {
     "name": "stdout",
     "output_type": "stream",
     "text": [
      "0\n",
      "1\n",
      "2\n",
      "3\n",
      "4\n"
     ]
    }
   ],
   "source": [
    "import time\n",
    "for i in range(5):\n",
    "    print(i)\n",
    "    time.sleep(1)"
   ]
  },
  {
   "cell_type": "code",
   "execution_count": 35,
   "metadata": {},
   "outputs": [
    {
     "name": "stdout",
     "output_type": "stream",
     "text": [
      "0.61742188275\n",
      "15\n"
     ]
    }
   ],
   "source": [
    "import random\n",
    "\n",
    "print random.random() # 0<x<1\n",
    "\n",
    "print random.randint(1,20)"
   ]
  },
  {
   "cell_type": "code",
   "execution_count": 47,
   "metadata": {},
   "outputs": [
    {
     "name": "stdout",
     "output_type": "stream",
     "text": [
      "3.14159265359\n",
      "1.0\n",
      "0.785398163397\n",
      "0.785398163397\n",
      "3.16227766017\n"
     ]
    }
   ],
   "source": [
    "import math\n",
    "\n",
    "pi = math.pi\n",
    "\n",
    "print pi\n",
    "\n",
    "print math.sin(pi/2)\n",
    "print math.atan(1) # pi/4\n",
    "print pi/4\n",
    "\n",
    "print math.sqrt(10) # square root"
   ]
  },
  {
   "cell_type": "code",
   "execution_count": null,
   "metadata": {},
   "outputs": [],
   "source": []
  }
 ],
 "metadata": {
  "kernelspec": {
   "display_name": "Python 2",
   "language": "python",
   "name": "python2"
  },
  "language_info": {
   "codemirror_mode": {
    "name": "ipython",
    "version": 2
   },
   "file_extension": ".py",
   "mimetype": "text/x-python",
   "name": "python",
   "nbconvert_exporter": "python",
   "pygments_lexer": "ipython2",
   "version": "2.7.12"
  }
 },
 "nbformat": 4,
 "nbformat_minor": 2
}
