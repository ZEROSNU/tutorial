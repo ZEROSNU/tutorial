{
 "cells": [
  {
   "cell_type": "code",
   "execution_count": 4,
   "metadata": {},
   "outputs": [
    {
     "name": "stdout",
     "output_type": "stream",
     "text": [
      "Hello!\n"
     ]
    }
   ],
   "source": [
    "# python\n",
    "\n",
    "'''\n",
    "hi\n",
    "hello\n",
    "'''\n",
    "\n",
    "print \"Hello!\""
   ]
  },
  {
   "cell_type": "code",
   "execution_count": 13,
   "metadata": {},
   "outputs": [
    {
     "name": "stdout",
     "output_type": "stream",
     "text": [
      "123\n",
      "-178\n",
      "1.2\n"
     ]
    }
   ],
   "source": [
    "# integer\n",
    "a = 123\n",
    "print a\n",
    "\n",
    "b = -178\n",
    "print b"
   ]
  },
  {
   "cell_type": "code",
   "execution_count": 19,
   "metadata": {},
   "outputs": [
    {
     "name": "stdout",
     "output_type": "stream",
     "text": [
      "1.2\n",
      "424000.0\n",
      "0.0012\n"
     ]
    }
   ],
   "source": [
    "# float\n",
    "a = 1.2\n",
    "print a\n",
    "\n",
    "b = 4.24e5\n",
    "print b\n",
    "\n",
    "c = 1.2e-3\n",
    "print c"
   ]
  },
  {
   "cell_type": "code",
   "execution_count": 25,
   "metadata": {},
   "outputs": [
    {
     "name": "stdout",
     "output_type": "stream",
     "text": [
      "9\n",
      "1\n",
      "20\n",
      "1\n",
      "1\n"
     ]
    }
   ],
   "source": [
    "a=5\n",
    "b=4\n",
    "\n",
    "print a+b\n",
    "print a-b\n",
    "print a*b\n",
    "print a/b\n",
    "\n",
    "print a%b"
   ]
  },
  {
   "cell_type": "code",
   "execution_count": 27,
   "metadata": {},
   "outputs": [
    {
     "name": "stdout",
     "output_type": "stream",
     "text": [
      "1.25\n",
      "1.25\n"
     ]
    }
   ],
   "source": [
    "a=5\n",
    "b=4\n",
    "print float(a)/float(b)\n",
    "\n",
    "a=5.0\n",
    "b=4.0\n",
    "print a/b"
   ]
  },
  {
   "cell_type": "code",
   "execution_count": 69,
   "metadata": {},
   "outputs": [
    {
     "name": "stdout",
     "output_type": "stream",
     "text": [
      "<type 'int'>\n",
      "<type 'float'>\n"
     ]
    }
   ],
   "source": [
    "print type(5)\n",
    "print type(5.0)"
   ]
  },
  {
   "cell_type": "code",
   "execution_count": 30,
   "metadata": {},
   "outputs": [
    {
     "name": "stdout",
     "output_type": "stream",
     "text": [
      "81\n",
      "81\n"
     ]
    }
   ],
   "source": [
    "print 3**4 # 3^4\n",
    "print pow(3,4)"
   ]
  },
  {
   "cell_type": "code",
   "execution_count": 44,
   "metadata": {},
   "outputs": [
    {
     "name": "stdout",
     "output_type": "stream",
     "text": [
      "hello\n",
      "Hello\n",
      "hello\n",
      "Hello! Nice to meet you\n",
      "I'm 10 years old\n",
      "hello hello \n"
     ]
    }
   ],
   "source": [
    "#string\n",
    "\n",
    "print(\"hello\")\n",
    "print \"Hello\"\n",
    "print 'hello'\n",
    "print \"Hello! \" + \"Nice to meet you\"\n",
    "print \"I'm \" + str(10) + \" years old\"\n",
    "print \"hello \" * 2"
   ]
  },
  {
   "cell_type": "code",
   "execution_count": 51,
   "metadata": {},
   "outputs": [
    {
     "name": "stdout",
     "output_type": "stream",
     "text": [
      "L\n",
      "t\n",
      "Lif\n"
     ]
    }
   ],
   "source": [
    "a = \"Life is too short\"\n",
    "print a[0]\n",
    "print a[-1]\n",
    "print a[0:3] # 0 <= a < 3"
   ]
  },
  {
   "cell_type": "code",
   "execution_count": 58,
   "metadata": {},
   "outputs": [
    {
     "name": "stdout",
     "output_type": "stream",
     "text": [
      "17\n",
      "3\n",
      "3\n"
     ]
    }
   ],
   "source": [
    "a = \"Life is too short\"\n",
    "print len(a)\n",
    "print a.count('o')\n",
    "print a.find('e')"
   ]
  },
  {
   "cell_type": "code",
   "execution_count": 60,
   "metadata": {},
   "outputs": [
    {
     "name": "stdout",
     "output_type": "stream",
     "text": [
      "a,b,c,d,e\n"
     ]
    }
   ],
   "source": [
    "print \",\".join('abcde')"
   ]
  },
  {
   "cell_type": "code",
   "execution_count": 67,
   "metadata": {},
   "outputs": [
    {
     "name": "stdout",
     "output_type": "stream",
     "text": [
      "1\n",
      "short\n",
      "o\n",
      "['life', 'is']\n"
     ]
    }
   ],
   "source": [
    "# List\n",
    "odd = [1,3,5,7,9]\n",
    "a = ['life', 'is', 'too', 'short']\n",
    "print odd[0]\n",
    "print a[-1]\n",
    "print a[2][2]\n",
    "print a[0:2]"
   ]
  },
  {
   "cell_type": "code",
   "execution_count": 72,
   "metadata": {},
   "outputs": [
    {
     "name": "stdout",
     "output_type": "stream",
     "text": [
      "[1, 2, 3, 4, 5, 6]\n",
      "[1, 2, 3, 1, 2, 3, 1, 2, 3]\n"
     ]
    }
   ],
   "source": [
    "a = [1,2,3]\n",
    "b = [4,5,6]\n",
    "\n",
    "print a+b\n",
    "print a*3"
   ]
  },
  {
   "cell_type": "code",
   "execution_count": 89,
   "metadata": {},
   "outputs": [
    {
     "name": "stdout",
     "output_type": "stream",
     "text": [
      "3\n",
      "[1, 2, 3, 4]\n",
      "1\n",
      "[1, 2, 10, 3, 4]\n"
     ]
    }
   ],
   "source": [
    "a = [1,2,3]\n",
    "print len(a)\n",
    "\n",
    "#append\n",
    "a.append(4)\n",
    "print a\n",
    "\n",
    "#index\n",
    "print a.index(2)\n",
    "\n",
    "#insert\n",
    "a.insert(2,10)\n",
    "print a"
   ]
  },
  {
   "cell_type": "code",
   "execution_count": 92,
   "metadata": {},
   "outputs": [
    {
     "name": "stdout",
     "output_type": "stream",
     "text": [
      "[1, 2, 4, 5]\n",
      "4\n",
      "[1, 2, 5]\n"
     ]
    }
   ],
   "source": [
    "a = [1,2,3,4,5]\n",
    "\n",
    "#remove\n",
    "a.remove(3)\n",
    "print a\n",
    "\n",
    "#pop\n",
    "print a.pop(2)\n",
    "print a"
   ]
  },
  {
   "cell_type": "code",
   "execution_count": null,
   "metadata": {},
   "outputs": [],
   "source": []
  }
 ],
 "metadata": {
  "kernelspec": {
   "display_name": "Python 2",
   "language": "python",
   "name": "python2"
  },
  "language_info": {
   "codemirror_mode": {
    "name": "ipython",
    "version": 2
   },
   "file_extension": ".py",
   "mimetype": "text/x-python",
   "name": "python",
   "nbconvert_exporter": "python",
   "pygments_lexer": "ipython2",
   "version": "2.7.12"
  }
 },
 "nbformat": 4,
 "nbformat_minor": 2
}
