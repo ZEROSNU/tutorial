{
 "cells": [
  {
   "cell_type": "code",
   "execution_count": 1,
   "metadata": {},
   "outputs": [],
   "source": [
    "import numpy as np\n",
    "import time"
   ]
  },
  {
   "cell_type": "code",
   "execution_count": 2,
   "metadata": {},
   "outputs": [],
   "source": [
    "def get_elliptic_mat(n):\n",
    "    A = 2 * np.identity(n)\n",
    "    neg_ones = -np.identity(n - 1)\n",
    "    A[1: n, 0: n - 1] += neg_ones\n",
    "    A[0: n - 1, 1: n] += neg_ones\n",
    "    return A"
   ]
  },
  {
   "cell_type": "code",
   "execution_count": 3,
   "metadata": {},
   "outputs": [],
   "source": [
    "A = get_elliptic_mat(300)"
   ]
  },
  {
   "cell_type": "code",
   "execution_count": 4,
   "metadata": {},
   "outputs": [],
   "source": [
    "def lu_gauss_naive(A):\n",
    "    n = A.shape[0]\n",
    "    L = np.identity(n)\n",
    "    U = np.copy(A)\n",
    "    \n",
    "    before = time.time()\n",
    "\n",
    "    for i in range(n - 1):\n",
    "        # fix row i\n",
    "        m = np.zeros(n)\n",
    "        for j in range(n):\n",
    "            m[j] = U[j, i] / U[i, i]\n",
    "       \n",
    "        for j in range(i + 1):\n",
    "            m[j] = 0.\n",
    "        \n",
    "        for j in range(n):\n",
    "            L[j, i] += m[j]\n",
    "        \n",
    "        for j in range(n):\n",
    "            for k in range(n):\n",
    "                U[j, k] -= m[j] * U[i, k]\n",
    "                \n",
    "    now = time.time()\n",
    "    print(\"Naive implementation of LU decomposition time consumption: {}s\"\\\n",
    "          .format(now - before))\n",
    "\n",
    "    return L, U"
   ]
  },
  {
   "cell_type": "code",
   "execution_count": 5,
   "metadata": {},
   "outputs": [],
   "source": [
    "def lu_gauss(A):\n",
    "\n",
    "    L = np.identity(A.shape[0])\n",
    "    U = np.copy(A)\n",
    "    \n",
    "    before = time.time()\n",
    "\n",
    "    for i in range(A.shape[0] - 1):\n",
    "        # fix row i\n",
    "        m = U[:, i] / U[i, i]\n",
    "        m[0: i + 1] = 0\n",
    "        L[:, i] += m\n",
    "        m = m.reshape(-1, 1)\n",
    "        U -= m * U[i, :]\n",
    "    \n",
    "    now = time.time()\n",
    "    print(\"More compact implementation of LU decomposition time consumption: {}s\"\\\n",
    "          .format(now - before))\n",
    "    return L, U"
   ]
  },
  {
   "cell_type": "code",
   "execution_count": 6,
   "metadata": {},
   "outputs": [
    {
     "name": "stdout",
     "output_type": "stream",
     "text": [
      "Naive implementation of LU decomposition time consumption: 15.602262735366821s\n",
      "True\n"
     ]
    }
   ],
   "source": [
    "# now lets check our naive answer\n",
    "L, U = lu_gauss_naive(A)\n",
    "print(np.allclose(np.matmul(L, U), A)) # np.allclose checks if the two matrices are same"
   ]
  },
  {
   "cell_type": "code",
   "execution_count": 7,
   "metadata": {},
   "outputs": [
    {
     "name": "stdout",
     "output_type": "stream",
     "text": [
      "More compact implementation of LU decomposition time consumption: 0.07397174835205078s\n",
      "True\n"
     ]
    }
   ],
   "source": [
    "# now lets check our compact answer\n",
    "L, U = lu_gauss(A)\n",
    "print(np.allclose(np.matmul(L, U), A))"
   ]
  },
  {
   "cell_type": "code",
   "execution_count": null,
   "metadata": {},
   "outputs": [],
   "source": []
  }
 ],
 "metadata": {
  "kernelspec": {
   "display_name": "Python 3",
   "language": "python",
   "name": "python3"
  },
  "language_info": {
   "codemirror_mode": {
    "name": "ipython",
    "version": 3
   },
   "file_extension": ".py",
   "mimetype": "text/x-python",
   "name": "python",
   "nbconvert_exporter": "python",
   "pygments_lexer": "ipython3",
   "version": "3.7.0"
  }
 },
 "nbformat": 4,
 "nbformat_minor": 2
}
